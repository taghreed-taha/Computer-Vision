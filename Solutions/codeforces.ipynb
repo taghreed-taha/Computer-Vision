{
 "metadata": {
  "language_info": {
   "codemirror_mode": {
    "name": "ipython",
    "version": 3
   },
   "file_extension": ".py",
   "mimetype": "text/x-python",
   "name": "python",
   "nbconvert_exporter": "python",
   "pygments_lexer": "ipython3",
   "version": "3.8.3-final"
  },
  "orig_nbformat": 2,
  "kernelspec": {
   "name": "Python 3.8.3 64-bit ('base': conda)",
   "display_name": "Python 3.8.3 64-bit ('base': conda)",
   "metadata": {
    "interpreter": {
     "hash": "6bf67eb5649b087681366e5c87d7551c4ee35afbc53ff41b1cc832c704232f8c"
    }
   }
  }
 },
 "nbformat": 4,
 "nbformat_minor": 2,
 "cells": [
  {
   "cell_type": "code",
   "execution_count": null,
   "metadata": {},
   "outputs": [],
   "source": [
    "s = input()\n",
    "u,l=0,0\n",
    "for c in s:\n",
    "    if ord('a')<=ord(c)<=ord('z'):\n",
    "        l+=1\n",
    "    else:\n",
    "        u+=1\n",
    "print(s.upper() if u>l else s.lower())"
   ]
  },
  {
   "cell_type": "code",
   "execution_count": null,
   "metadata": {},
   "outputs": [],
   "source": [
    "haram = ['ABSINTH', 'BEER', 'BRANDY', 'CHAMPAGNE', 'GIN', 'RUM', 'SAKE', 'TEQUILA', 'VODKA', 'WHISKEY', 'WINE']\n",
    "n= int(input())\n",
    "ans = 0\n",
    "for t in range(n):\n",
    "\tx = input()\n",
    "\tif (x.isnumeric() and int(x) < 18) or x in haram:\n",
    "\t\tans += 1\n",
    " \n",
    "print(ans)"
   ]
  },
  {
   "cell_type": "code",
   "execution_count": null,
   "metadata": {},
   "outputs": [],
   "source": [
    "t = int(input())\n",
    "\n",
    "while(t>0):\n",
    "    t-=1\n",
    "    a, b = map(int, input().split())\n",
    "    diff = abs(a-b)//10 + (1 if abs(a-b)%10 else 0)\n",
    "    print(diff)"
   ]
  },
  {
   "cell_type": "code",
   "execution_count": null,
   "metadata": {},
   "outputs": [],
   "source": [
    "n = int(input())\n",
    " \n",
    "out = [0]*10\n",
    "x = input()\n",
    "for t in range(n):\n",
    "\tif x[t] == 'L':\n",
    "\t\tfor i in range(10):\n",
    "\t\t\tif not out[i]:\n",
    "\t\t\t\tout[i] = 1\n",
    "\t\t\t\tbreak\n",
    "\telif x[t] == 'R':\n",
    "\t\tfor i in range(9, -1, -1):\n",
    "\t\t\tif not out[i]:\n",
    "\t\t\t\tout[i] = 1\n",
    "\t\t\t\tbreak\n",
    "\telse:\n",
    "\t\tout[ord(x[t])-ord('0')] = 0\n",
    " \n",
    "for i in range(10):\n",
    "\tprint(out[i], end='')"
   ]
  },
  {
   "cell_type": "code",
   "execution_count": null,
   "metadata": {},
   "outputs": [],
   "source": [
    "t = int(input())\n",
    "arr = [0]*100\n",
    "while t:\n",
    "    n = int(input())\n",
    "    arr[:n] = map(int, input().split(' '))\n",
    "    arr[:n]= sorted(arr[:n])\n",
    " \n",
    "    flag = 1\n",
    " \n",
    "    for i in range(1, n):\n",
    "        if abs(arr[i] - arr[i-1]) > 1:\n",
    "            flag = 0\n",
    "            break\n",
    "    \n",
    "    print('YES' if flag else 'NO')\n",
    "    t-=1"
   ]
  }
 ]
}